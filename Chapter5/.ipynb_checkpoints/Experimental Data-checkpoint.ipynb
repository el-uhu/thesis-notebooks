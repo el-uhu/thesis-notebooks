{
 "cells": [
  {
   "cell_type": "code",
   "execution_count": 1,
   "metadata": {
    "collapsed": false
   },
   "outputs": [
    {
     "ename": "LoadError",
     "evalue": "LoadError: LoadError: ArgumentError: IDAT not found in path\nwhile loading /home/nbuser/thesis-notebooks/Chapter5/custom_code/utilities.jl, in expression starting on line 7\nwhile loading In[1], in expression starting on line 1",
     "output_type": "error",
     "traceback": [
      "LoadError: LoadError: ArgumentError: IDAT not found in path\nwhile loading /home/nbuser/thesis-notebooks/Chapter5/custom_code/utilities.jl, in expression starting on line 7\nwhile loading In[1], in expression starting on line 1",
      "",
      " in require at ./loading.jl:249",
      " in include at ./boot.jl:261",
      " in include_from_node1 at ./loading.jl:320"
     ]
    }
   ],
   "source": [
    "#Load dependencies and \n",
    "include(\"custom_code/utilities.jl\")\n",
    "include(\"custom_code/plot_data.jl\")\n",
    "include(\"custom_code/model_routines.jl\")\n",
    "close(\"all\")"
   ]
  },
  {
   "cell_type": "code",
   "execution_count": null,
   "metadata": {
    "collapsed": true
   },
   "outputs": [],
   "source": [
    "#Load data\n",
    "S = Spec(\"specs.yml\")\n",
    "D = readtable(joinpath(S.path, \"map_curated.csv\"));\n",
    "H = D[D[:celltype] .== \"HeLa\", :]\n",
    "HR = H[H[:treatment] .== \"RO-3306\", :]\n",
    "HN = H[H[:treatment] .== \"noc_only\", :]\n",
    "HN = HN[HN[:ana] .!= 0.0, :]\n",
    "hctrl = [id for id in H[H[:treatment] .== \"untreated\", :cell_id]]\n",
    "\n",
    "R = D[D[:celltype] .== \"RPE1\", :]\n",
    "RR = R[R[:treatment] .== \"RO-3306\", :]\n",
    "RN = R[R[:treatment] .== \"noc_only\", :]\n",
    "RN = RN[RN[:ana] .!= 0.0, :]\n",
    "\n",
    "hro = Dict([d => [id for id in HR[HR[:dose_uM] .== d,:][:cell_id]] for d in unique(HR[:dose_uM])])\n",
    "rro = Dict([d => [id for id in RR[RR[:dose_uM] .== d,:][:cell_id]] for d in unique(RR[:dose_uM])])\n",
    "hro[0.0] = [id for id in HN[:cell_id]]\n",
    "rro[0.0] = [id for id in RN[:cell_id]]"
   ]
  }
 ],
 "metadata": {
  "kernelspec": {
   "display_name": "Julia 0.4.6",
   "language": "julia",
   "name": "julia-0.4"
  },
  "language_info": {
   "file_extension": ".jl",
   "mimetype": "application/julia",
   "name": "julia",
   "version": "0.4.6"
  }
 },
 "nbformat": 4,
 "nbformat_minor": 1
}
