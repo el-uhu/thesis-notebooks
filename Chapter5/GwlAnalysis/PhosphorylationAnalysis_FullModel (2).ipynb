{
 "cells": [
  {
   "cell_type": "markdown",
   "metadata": {},
   "source": [
    "### What is this? \n",
    "*This is a fully functional Jupyter notebook running on a Julia kernel.*\n",
    "\n",
    "### How to use this document?\n",
    "*To execute the code in a cell, press `Shift` + `Enter` when the cell is active. After starting a new notebook, it is necessary to execute each code cell at least once to get the interactive plot functionality!*\n",
    "\n",
    "### Changing stuff\n",
    "*Feel free to change the code as you like, but before doing so, please go to `File -> Make a new copy...` and edit a copy of this notebook. You can download the whole notebook in `.ipynb`-format, or as non-interactive `.pdf`. The plot can be saved as a png*\n",
    "\n",
    "### What to do, when things go wrong?\n",
    "*You can simply restart the kernel using `Kernel -> Restart`*\n",
    "\n",
    "### Shutting down\n",
    "*Once you're done, save your changes, then exit shut down the notebook via: `File -> Close and halt`*\n",
    "\n",
    "Enjoy!"
   ]
  },
  {
   "cell_type": "code",
   "execution_count": 1,
   "metadata": {
    "collapsed": false
   },
   "outputs": [
    {
     "data": {
      "text/html": [
       "<script charset=\"utf-8\">(function ($, undefined) {\n",
       "\n",
       "    function createElem(tag, attr, content) {\n",
       "\t// TODO: remove jQuery dependency\n",
       "\tvar el = $(\"<\" + tag + \"/>\").attr(attr);\n",
       "\tif (content) {\n",
       "\t    el.append(content);\n",
       "\t}\n",
       "\treturn el[0];\n",
       "    }\n",
       "\n",
       "    // A widget must expose an id field which identifies it to the backend,\n",
       "    // an elem attribute which is will be added to the DOM, and\n",
       "    // a getState() method which returns the value to be sent to the backend\n",
       "    // a sendUpdate() method which sends its current value to the backend\n",
       "    var Widget = {\n",
       "\tid: undefined,\n",
       "\telem: undefined,\n",
       "\tlabel: undefined,\n",
       "\tgetState: function () {\n",
       "\t    return this.elem.value;\n",
       "\t},\n",
       "\tsendUpdate: undefined\n",
       "    };\n",
       "\n",
       "    var Slider = function (typ, id, init) {\n",
       "\tvar attr = { type:  \"range\",\n",
       "\t\t     value: init.value,\n",
       "\t\t     min:   init.min,\n",
       "\t\t     max:   init.max,\n",
       "\t\t     step:  init.step },\n",
       "\t    elem = createElem(\"input\", attr),\n",
       "\t    self = this;\n",
       "\n",
       "\telem.onchange = function () {\n",
       "\t    self.sendUpdate();\n",
       "\t}\n",
       "\n",
       "\tthis.id = id;\n",
       "\tthis.elem = elem;\n",
       "\tthis.label = init.label;\n",
       "\n",
       "\tInputWidgets.commInitializer(this); // Initialize communication\n",
       "    }\n",
       "    Slider.prototype = Widget;\n",
       "\n",
       "    var Checkbox = function (typ, id, init) {\n",
       "\tvar attr = { type: \"checkbox\",\n",
       "\t\t     checked: init.value },\n",
       "\t    elem = createElem(\"input\", attr),\n",
       "\t    self = this;\n",
       "\n",
       "\tthis.getState = function () {\n",
       "\t    return elem.checked;\n",
       "\t}\n",
       "\telem.onchange = function () {\n",
       "\t    self.sendUpdate();\n",
       "\t}\n",
       "\n",
       "\tthis.id = id;\n",
       "\tthis.elem = elem;\n",
       "\tthis.label = init.label;\n",
       "\n",
       "\tInputWidgets.commInitializer(this);\n",
       "    }\n",
       "    Checkbox.prototype = Widget;\n",
       "\n",
       "    var Button = function (typ, id, init) {\n",
       "\tvar attr = { type:    \"button\",\n",
       "\t\t     value:   init.label },\n",
       "\t    elem = createElem(\"input\", attr),\n",
       "\t    self = this;\n",
       "\tthis.getState = function () {\n",
       "\t    return null;\n",
       "\t}\n",
       "\telem.onclick = function () {\n",
       "\t    self.sendUpdate();\n",
       "\t}\n",
       "\n",
       "\tthis.id = id;\n",
       "\tthis.elem = elem;\n",
       "\tthis.label = init.label;\n",
       "\n",
       "\tInputWidgets.commInitializer(this);\n",
       "    }\n",
       "    Button.prototype = Widget;\n",
       "\n",
       "    var Text = function (typ, id, init) {\n",
       "\tvar attr = { type:  \"text\",\n",
       "\t\t     placeholder: init.label,\n",
       "\t\t     value: init.value },\n",
       "\t    elem = createElem(\"input\", attr),\n",
       "\t    self = this;\n",
       "\tthis.getState = function () {\n",
       "\t    return elem.value;\n",
       "\t}\n",
       "\telem.onkeyup = function () {\n",
       "\t    self.sendUpdate();\n",
       "\t}\n",
       "\n",
       "\tthis.id = id;\n",
       "\tthis.elem = elem;\n",
       "\tthis.label = init.label;\n",
       "\n",
       "\tInputWidgets.commInitializer(this);\n",
       "    }\n",
       "    Text.prototype = Widget;\n",
       "\n",
       "    var Textarea = function (typ, id, init) {\n",
       "\tvar attr = { placeholder: init.label },\n",
       "\t    elem = createElem(\"textarea\", attr, init.value),\n",
       "\t    self = this;\n",
       "\tthis.getState = function () {\n",
       "\t    return elem.value;\n",
       "\t}\n",
       "\telem.onchange = function () {\n",
       "\t    self.sendUpdate();\n",
       "\t}\n",
       "\n",
       "\tthis.id = id;\n",
       "\tthis.elem = elem;\n",
       "\tthis.label = init.label;\n",
       "\n",
       "\tInputWidgets.commInitializer(this);\n",
       "    }\n",
       "    Textarea.prototype = Widget;\n",
       "\n",
       "    // RadioButtons\n",
       "    // Dropdown\n",
       "    // HTML\n",
       "    // Latex\n",
       "\n",
       "    var InputWidgets = {\n",
       "\tSlider: Slider,\n",
       "\tCheckbox: Checkbox,\n",
       "\tButton: Button,\n",
       "\tText: Text,\n",
       "\tTextarea: Textarea,\n",
       "\tdebug: false,\n",
       "\tlog: function () {\n",
       "\t    if (InputWidgets.debug) {\n",
       "\t\tconsole.log.apply(console, arguments);\n",
       "\t    }\n",
       "\t},\n",
       "\t// a central way to initalize communication\n",
       "\t// for widgets.\n",
       "\tcommInitializer: function (widget) {\n",
       "\t    widget.sendUpdate = function () {};\n",
       "\t}\n",
       "    };\n",
       "\n",
       "    window.InputWidgets = InputWidgets;\n",
       "\n",
       "})(jQuery, undefined);\n",
       "</script>"
      ]
     },
     "metadata": {},
     "output_type": "display_data"
    },
    {
     "data": {
      "text/html": [
       "<div id=\"interact-js-shim\">\n",
       "    <script charset=\"utf-8\">\n",
       "(function (IPython, $, _, MathJax, Widgets) {\n",
       "    $.event.special.destroyed = {\n",
       "\tremove: function(o) {\n",
       "\t    if (o.handler) {\n",
       "\t\to.handler.apply(this, arguments)\n",
       "\t    }\n",
       "\t}\n",
       "    }\n",
       "\n",
       "    var OutputArea = IPython.version >= \"4.0.0\" ? require(\"notebook/js/outputarea\").OutputArea : IPython.OutputArea;\n",
       "\n",
       "    var redrawValue = function (container, type, val) {\n",
       "\tvar selector = $(\"<div/>\");\n",
       "\tvar oa = new OutputArea(_.extend(selector, {\n",
       "\t    selector: selector,\n",
       "\t    prompt_area: true,\n",
       "\t    events: IPython.events,\n",
       "\t    keyboard_manager: IPython.keyboard_manager\n",
       "\t})); // Hack to work with IPython 2.1.0\n",
       "\n",
       "\tswitch (type) {\n",
       "\tcase \"image/png\":\n",
       "            var _src = 'data:' + type + ';base64,' + val;\n",
       "\t    $(container).find(\"img\").attr('src', _src);\n",
       "\t    break;\n",
       "\tdefault:\n",
       "\t    var toinsert = OutputArea.append_map[type].apply(\n",
       "\t\toa, [val, {}, selector]\n",
       "\t    );\n",
       "\t    $(container).empty().append(toinsert.contents());\n",
       "\t    selector.remove();\n",
       "\t}\n",
       "\tif (type === \"text/latex\" && MathJax) {\n",
       "\t    MathJax.Hub.Queue([\"Typeset\", MathJax.Hub, toinsert.get(0)]);\n",
       "\t}\n",
       "    }\n",
       "\n",
       "\n",
       "    $(document).ready(function() {\n",
       "\tWidgets.debug = false; // log messages etc in console.\n",
       "\tfunction initComm(evt, data) {\n",
       "\t    var comm_manager = data.kernel.comm_manager;\n",
       "        //_.extend(comm_manager.targets, require(\"widgets/js/widget\"))\n",
       "\t    comm_manager.register_target(\"Signal\", function (comm) {\n",
       "            comm.on_msg(function (msg) {\n",
       "                //Widgets.log(\"message received\", msg);\n",
       "                var val = msg.content.data.value;\n",
       "                $(\".signal-\" + comm.comm_id).each(function() {\n",
       "                var type = $(this).data(\"type\");\n",
       "                if (val[type]) {\n",
       "                    redrawValue(this, type, val[type], type);\n",
       "                }\n",
       "                });\n",
       "                delete val;\n",
       "                delete msg.content.data.value;\n",
       "            });\n",
       "\t    });\n",
       "\n",
       "\t    // coordingate with Comm and redraw Signals\n",
       "\t    // XXX: Test using Reactive here to improve performance\n",
       "\t    $([IPython.events]).on(\n",
       "\t\t'output_appended.OutputArea', function (event, type, value, md, toinsert) {\n",
       "\t\t    if (md && md.reactive) {\n",
       "                // console.log(md.comm_id);\n",
       "                toinsert.addClass(\"signal-\" + md.comm_id);\n",
       "                toinsert.data(\"type\", type);\n",
       "                // Signal back indicating the mimetype required\n",
       "                var comm_manager = IPython.notebook.kernel.comm_manager;\n",
       "                var comm = comm_manager.comms[md.comm_id];\n",
       "                comm.then(function (c) {\n",
       "                    c.send({action: \"subscribe_mime\",\n",
       "                       mime: type});\n",
       "                    toinsert.bind(\"destroyed\", function() {\n",
       "                        c.send({action: \"unsubscribe_mime\",\n",
       "                               mime: type});\n",
       "                    });\n",
       "                })\n",
       "\t\t    }\n",
       "\t    });\n",
       "\t}\n",
       "\n",
       "\ttry {\n",
       "\t    // try to initialize right away. otherwise, wait on the status_started event.\n",
       "\t    initComm(undefined, IPython.notebook);\n",
       "\t} catch (e) {\n",
       "\t    $([IPython.events]).on('kernel_created.Kernel kernel_created.Session', initComm);\n",
       "\t}\n",
       "    });\n",
       "})(IPython, jQuery, _, MathJax, InputWidgets);\n",
       "</script>\n",
       "    <script>\n",
       "        window.interactLoadedFlag = true\n",
       "       $(\"#interact-js-shim\").bind(\"destroyed\", function () {\n",
       "           if (window.interactLoadedFlag) {\n",
       "               console.warn(\"JavaScript required by Interact will be removed if you remove this cell or run using Interact more than once.\")\n",
       "           }\n",
       "       })\n",
       "       $([IPython.events]).on(\"kernel_starting.Kernel kernel_restarting.Kernel\", function () { window.interactLoadedFlag = false })\n",
       "   </script>\n",
       "</div>"
      ]
     },
     "metadata": {},
     "output_type": "display_data"
    }
   ],
   "source": [
    "#Load required packages\n",
    "using XPP\n",
    "using DataFrames\n",
    "using Interact, Reactive\n",
    "using PyPlot"
   ]
  },
  {
   "cell_type": "markdown",
   "metadata": {
    "collapsed": true
   },
   "source": [
    "# The Model\n",
    "\n",
    "We assume that the phosphorylation-state of a substrate $pS$ is regulated as follows:\n",
    "\n",
    "- $k_{pind}$ Phosphorylation by an constitutively active kinase\n",
    "- $k_{gwl}$ Phosphorylation by Greatwall kinase, affected by Greatwall depletion\n",
    "- $k_{ind}$ Dephosphorylation by a consititutively active phosphatase\n",
    "- $k_{b55}$ Dephosphorylation by PP2A:B55, affected by Greatwall and B55 depletion\n",
    "- $k_{egwl}$ Rate of Phosphorylation of ENSA by Gwl\n",
    "\n",
    "$$pS' = (k_{pind} + k_{gwl} \\cdot Gwl) * S - (k_{ind} + k_{b55} \\cdot B55) * pS $$\n",
    "$$pEt' = k_{egwl} \\cdot E \\cdot Gwl - k_{cat} \\cdot pEB $$\n",
    "$$pEB' = k_{ass} \\cdot B \\cdot pE - (k_{diss} + k_{cat}) \\cdot pEB $$\n"
   ]
  },
  {
   "cell_type": "code",
   "execution_count": 15,
   "metadata": {
    "collapsed": false
   },
   "outputs": [
    {
     "name": "stdout",
     "output_type": "stream",
     "text": [
      "Vectorisation of model\n",
      "ASCIIString[\"p[10] * (p[6] - y[1]) * p[5] - (p[9] + p[12]) * y[2]\",\"p[1] * (p[2] - y[2]) * (y[1] - y[2]) - (p[9] + p[12]) * y[2]\",\"(p[7] + p[3] * p[5]) * (p[4] - y[3]) - (p[8] + p[11] * (p[2] - y[2]))*y[3]\"]\n",
      "Any[]\n"
     ]
    }
   ],
   "source": [
    "# Differential equation\n",
    "odes = Dict(\n",
    "\"pS\" => \"(k_pind + k_gwl * Gwl) * (St - pS) - (k_ind + k_b55 * B)*pS\",\n",
    "    \"pEt\" => \"k_egwl * (Et - pEt) * Gwl - (k_diss + k_cat) * pEB\",\n",
    "    \"pEB\" => \"k_ass * B * pE - (k_diss + k_cat) * pEB\"\n",
    ");\n",
    "#Algebraic equations\n",
    "alg = Dict(\n",
    "    \"B\" => \"Bt - pEB\",\n",
    "    \"pE\" => \"pEt - pEB\"\n",
    ")\n",
    "# Initial condition\n",
    "init = Dict(\n",
    "    \"pS\" => 0.0,\n",
    "    \"pEt\" => 0.0,\n",
    "    \"pEB\" => 0.0,\n",
    ");\n",
    "#Parameters - Just initialised, will be set interactively\n",
    "pars = Dict(\n",
    "    \"k_pind\" => 0.0,\n",
    "\"k_gwl\" => 0.0,\n",
    "    \"k_ind\" => 0.0,\n",
    "    \"k_b55\" => 0.0,\n",
    "    \"k_egwl\" => 0.0,\n",
    "    \"k_diss\" => 0.0,\n",
    "    \"k_ass\" => 0.0,\n",
    "    \"k_cat\" => 0.0,\n",
    "    \"Gwl\" => 0.0,\n",
    "    \"Bt\" => 0.0,\n",
    "    \"Et\" => 0.0,\n",
    "    \"St\" => 1,\n",
    ");\n",
    "M = Model(odes, init, pars, name = \"Phosphorylation-Model\", alg = alg);"
   ]
  },
  {
   "cell_type": "markdown",
   "metadata": {},
   "source": [
    "# Kinase Inactivation\n",
    "\n",
    "We model two domains for the system:\n",
    "\n",
    "- Phosphorylation of the substrate, when B55 is largely inactive and kinases are active. Defined by *t1*\n",
    "- Dephosphorylation of the susbtrate where kinases are inactivated.\n",
    "\n",
    "This is captured by the following function:"
   ]
  },
  {
   "cell_type": "code",
   "execution_count": 16,
   "metadata": {
    "collapsed": false
   },
   "outputs": [
    {
     "data": {
      "text/plain": [
       "inactivateKinase (generic function with 1 method)"
      ]
     },
     "execution_count": 16,
     "metadata": {},
     "output_type": "execute_result"
    }
   ],
   "source": [
    "function inactivateKinase(M, t2, name)\n",
    "    #Set the new initial conditions for the simulations to the last values of the simulation of the phos.-domain\n",
    "    M.init = [v => M.sims[name*\"_1\"].D[v][end] for v in keys(M.init)]\n",
    "    #Inactivate the kinases\n",
    "    M.pars[\"Gwl\"] = 0\n",
    "    M.pars[\"k_pind\"] = 0\n",
    "    simulate!(M, name * \"_2\", 0:0.01:t2)\n",
    "    #Restore model to initial state...\n",
    "    restoreModel!(M)\n",
    "end"
   ]
  },
  {
   "cell_type": "markdown",
   "metadata": {},
   "source": [
    "# Modelling Depletion\n",
    "\n",
    "To capture the depletion of B55 and Gwl, we reduce the total pool of Gwl or B55 by a factor:"
   ]
  },
  {
   "cell_type": "code",
   "execution_count": 17,
   "metadata": {
    "collapsed": false
   },
   "outputs": [
    {
     "data": {
      "text/plain": [
       "simulateConditions (generic function with 1 method)"
      ]
     },
     "execution_count": 17,
     "metadata": {},
     "output_type": "execute_result"
    }
   ],
   "source": [
    "function simulateConditions(M, t1, t2, Gwl, Gwl_depletion, Bt, B55_depletion)\n",
    "    checkpoint!(M)\n",
    "    # Simulate Control\n",
    "    M.pars[\"Bt\"] = Bt\n",
    "    M.pars[\"Gwl\"] = Gwl\n",
    "    simulate!(M, \"Control_1\", 0:0.01:t1)\n",
    "    inactivateKinase(M, t2, \"Control\")\n",
    "    \n",
    "    # Simulate B55-Depletion\n",
    "    M.pars[\"Bt\"] = Bt * B55_depletion\n",
    "    M.pars[\"Gwl\"] = Gwl\n",
    "    simulate!(M, \"B55_1\", 0:0.01:t1)\n",
    "    inactivateKinase(M, t2, \"B55\")\n",
    "    \n",
    "    # Simulate Gwl-Depletion\n",
    "    M.pars[\"Bt\"] = Bt\n",
    "    M.pars[\"Gwl\"] = Gwl * Gwl_depletion\n",
    "    simulate!(M, \"Gwl_1\", 0:0.01:t1)\n",
    "    inactivateKinase(M, t2, \"Gwl\")\n",
    "end"
   ]
  },
  {
   "cell_type": "code",
   "execution_count": 18,
   "metadata": {
    "collapsed": false
   },
   "outputs": [
    {
     "data": {
      "text/plain": [
       "plotSimulations (generic function with 1 method)"
      ]
     },
     "execution_count": 18,
     "metadata": {},
     "output_type": "execute_result"
    }
   ],
   "source": [
    "# Helper function to get and assemble data from the two simulaton domains\n",
    "function getData(M, name, y)\n",
    "    t_1 = M.sims[name*\"_1\"].D[\"t\"]\n",
    "    y_1 = M.sims[name*\"_1\"].D[y]\n",
    "    t_2 = M.sims[name*\"_2\"].D[\"t\"]\n",
    "    y_2 = M.sims[name*\"_2\"].D[y]\n",
    "    return [t_1 - t_1[end]; t_2], [y_1; y_2], y_1[end]\n",
    "end\n",
    "\n",
    "#Plot pS and ENSA\n",
    "function plotSimulations(M, ti, normalise_by_ctrl)\n",
    "    sp = subplot(111)\n",
    "    #Get substrate data\n",
    "    t_c, ctrl, ctrl_1 = getData(M, \"Control\", \"pS\")\n",
    "    t_b, b55, b55_1 = getData(M, \"B55\", \"pS\")\n",
    "    t_g, gwl, gwl_1 = getData(M, \"Gwl\", \"pS\")\n",
    "    # Get Ensa data\n",
    "    t_c, ectrl, ectrl_1 = getData(M, \"Control\", \"pEt\")\n",
    "    t_b, eb55, eb55_1 = getData(M, \"B55\", \"pEt\")\n",
    "    t_g, egwl, egwl_1 = getData(M, \"Gwl\", \"pEt\")\n",
    "    \n",
    "    #Normalise relative to control\n",
    "    if normalise_by_ctrl\n",
    "        ctrl = ctrl./ctrl_1\n",
    "        b55 = b55./ctrl_1\n",
    "        gwl = gwl./ctrl_1\n",
    "        ectrl = ectrl./ectrl_1\n",
    "        eb55 = eb55./ectrl_1\n",
    "        egwl = egwl./ectrl_1\n",
    "    end    \n",
    "    \n",
    "    sp[:plot](t_c,ctrl, color = \"#5fbdff\", linewidth = 2, label = \"pS Ctrl\")\n",
    "    sp[:plot](t_b,b55, color = \"#ffc900\", linewidth = 2, label = \"pS B55\")\n",
    "    sp[:plot](t_g,gwl, color = \"#5fbd00\", linewidth = 2, label = \"pS Gwl\")\n",
    "    sp[:plot](t_c,ectrl, color = \"#5fbdff\", linewidth = 2, linestyle = \"--\", label = \"pEt Ctrl\")\n",
    "    sp[:plot](t_b,eb55, color = \"#ffc900\", linewidth = 2, linestyle = \"--\", label = \"pEt B55\")\n",
    "    sp[:plot](t_g,egwl, color = \"#5fbd00\", linewidth = 2, linestyle = \"--\", label = \"pEt Gwl\")\n",
    "    sp[:set_xlabel](\"time (min)\")\n",
    "    sp[:set_ylabel](\"pS\")\n",
    "    title(ti)\n",
    "    legend()\n",
    "        \n",
    "end"
   ]
  },
  {
   "cell_type": "markdown",
   "metadata": {},
   "source": [
    "# Interactive model\n",
    "\n",
    "Execute the cell below first, then change values in the textboxes or move sliders to change the model parameters"
   ]
  },
  {
   "cell_type": "code",
   "execution_count": 20,
   "metadata": {
    "collapsed": false
   },
   "outputs": [
    {
     "data": {
      "text/html": [],
      "text/plain": [
       "Interact.Textbox{AbstractString}(Signal{AbstractString}(Analysis of Phosphorylation, nactions=0),\"title\",nothing,\"Analysis of Phosphorylation\")"
      ]
     },
     "metadata": {},
     "output_type": "display_data"
    },
    {
     "data": {
      "text/html": [],
      "text/plain": [
       "Interact.Textbox{Float64}(Signal{Float64}(1.0, nactions=0),\"Gwl\",nothing,1.0)"
      ]
     },
     "metadata": {},
     "output_type": "display_data"
    },
    {
     "data": {
      "text/html": [],
      "text/plain": [
       "Interact.Textbox{Float64}(Signal{Float64}(0.7303, nactions=0),\"Bt\",nothing,0.7303)"
      ]
     },
     "metadata": {},
     "output_type": "display_data"
    },
    {
     "data": {
      "text/html": [],
      "text/plain": [
       "Interact.Textbox{Float64}(Signal{Float64}(2.3, nactions=0),\"Et\",nothing,2.3)"
      ]
     },
     "metadata": {},
     "output_type": "display_data"
    },
    {
     "data": {
      "text/html": [],
      "text/plain": [
       "Interact.Textbox{Float64}(Signal{Float64}(0.1, nactions=0),\"Gwl_depletion\",nothing,0.1)"
      ]
     },
     "metadata": {},
     "output_type": "display_data"
    },
    {
     "data": {
      "text/html": [],
      "text/plain": [
       "Interact.Textbox{Float64}(Signal{Float64}(0.3099, nactions=0),\"B55_depletion\",nothing,0.3099)"
      ]
     },
     "metadata": {},
     "output_type": "display_data"
    },
    {
     "data": {
      "text/html": [],
      "text/plain": [
       "Interact.Textbox{Float64}(Signal{Float64}(8.2551, nactions=0),\"k_ass\",nothing,8.2551)"
      ]
     },
     "metadata": {},
     "output_type": "display_data"
    },
    {
     "data": {
      "text/html": [],
      "text/plain": [
       "Interact.Textbox{Float64}(Signal{Float64}(0.001, nactions=0),\"k_diss\",nothing,0.001)"
      ]
     },
     "metadata": {},
     "output_type": "display_data"
    },
    {
     "data": {
      "text/html": [],
      "text/plain": [
       "Interact.Textbox{Float64}(Signal{Float64}(0.165, nactions=0),\"k_cat\",nothing,0.165)"
      ]
     },
     "metadata": {},
     "output_type": "display_data"
    },
    {
     "data": {
      "text/html": [],
      "text/plain": [
       "Interact.Textbox{Int64}(Signal{Int64}(45, nactions=0),\"t1\",nothing,45)"
      ]
     },
     "metadata": {},
     "output_type": "display_data"
    },
    {
     "data": {
      "text/html": [],
      "text/plain": [
       "Interact.Textbox{Int64}(Signal{Int64}(45, nactions=0),\"t2\",nothing,45)"
      ]
     },
     "metadata": {},
     "output_type": "display_data"
    },
    {
     "data": {
      "text/html": [],
      "text/plain": [
       "Interact.Checkbox(Signal{Bool}(true, nactions=0),\"normalise_by_ctrl\",true)"
      ]
     },
     "metadata": {},
     "output_type": "display_data"
    },
    {
     "data": {
      "text/html": [],
      "text/plain": [
       "Interact.Textbox{Float64}(Signal{Float64}(0.12, nactions=0),\"k_pind\",nothing,0.12)"
      ]
     },
     "metadata": {},
     "output_type": "display_data"
    },
    {
     "data": {
      "text/html": [],
      "text/plain": [
       "Interact.Textbox{Float64}(Signal{Float64}(0.6, nactions=0),\"k_gwl\",nothing,0.6)"
      ]
     },
     "metadata": {},
     "output_type": "display_data"
    },
    {
     "data": {
      "text/html": [],
      "text/plain": [
       "Interact.Textbox{Float64}(Signal{Float64}(0.08, nactions=0),\"k_egwl\",nothing,0.08)"
      ]
     },
     "metadata": {},
     "output_type": "display_data"
    },
    {
     "data": {
      "text/html": [],
      "text/plain": [
       "Interact.Textbox{Float64}(Signal{Float64}(0.0, nactions=0),\"k_ind\",nothing,0.0)"
      ]
     },
     "metadata": {},
     "output_type": "display_data"
    },
    {
     "data": {
      "text/html": [],
      "text/plain": [
       "Interact.Textbox{Float64}(Signal{Float64}(0.12, nactions=0),\"k_b55\",nothing,0.12)"
      ]
     },
     "metadata": {},
     "output_type": "display_data"
    },
    {
     "data": {
      "text/html": [],
      "text/plain": [
       "Interact.Textbox{Float64}(Signal{Float64}(20.0, nactions=0),\"St\",nothing,20.0)"
      ]
     },
     "metadata": {},
     "output_type": "display_data"
    },
    {
     "data": {
      "image/png": "[encoded data removed]",
      "text/plain": [
       "PyPlot.Figure(PyObject <matplotlib.figure.Figure object at 0x7f3657340110>)"
      ]
     },
     "execution_count": 20,
     "metadata": {
      "comm_id": "91d15d2b-4b3c-478f-bd52-0b7e9a2148f7",
      "reactive": true
     },
     "output_type": "execute_result"
    }
   ],
   "source": [
    "f = figure()\n",
    "@manipulate for \n",
    "    title=\"Analysis of Phosphorylation\", # Title of the plot\n",
    "    Gwl=1.0,\n",
    "    Bt=0.7303,\n",
    "    Et=2.3,\n",
    "    Gwl_depletion=0.1,\n",
    "    B55_depletion=0.3099,\n",
    "    k_ass=8.2551,\n",
    "    k_diss=0.001,\n",
    "    k_cat=0.165,\n",
    "    t1=45, # Duration of simulation of phosphorylation domain\n",
    "    t2=45, # Duration of simulation of dephosphorylation domain\n",
    "    normalise_by_ctrl=true,\n",
    "    k_pind=0.12,\n",
    "    k_gwl=0.6,\n",
    "    k_egwl=0.08,\n",
    "    k_ind=0.0,\n",
    "    k_b55=0.12,\n",
    "    St=20.0;\n",
    "    withfig(f) do\n",
    "        # Update the parameters\n",
    "        M.pars= Dict(\n",
    "            \"k_pind\" => k_pind,\n",
    "            \"k_ind\" => k_ind,\n",
    "        \"k_gwl\" => k_gwl,\n",
    "            \"k_egwl\" => k_egwl,\n",
    "            \"k_b55\" => k_b55,\n",
    "            \"k_ass\" => k_ass,\n",
    "            \"k_diss\" => k_diss,\n",
    "            \"k_cat\" => k_cat,\n",
    "            \"Gwl\" => Gwl,\n",
    "            \"Bt\" => Bt,\n",
    "            \"Et\" => Et,\n",
    "            \"St\" => St,\n",
    "        )\n",
    "        simulateConditions(M, t1, t2, Gwl, Gwl_depletion, Bt, B55_depletion)\n",
    "        plotSimulations(M, title, normalise_by_ctrl)\n",
    "\n",
    "    end\n",
    "end"
   ]
  },
  {
   "cell_type": "markdown",
   "metadata": {},
   "source": [
    "## Interesting:\n",
    "\n",
    "- See how `Gwl_depletion` affects the steady states!\n",
    "- As long as `k_pind` is not 0, its actual numerical does not affect the steady state (If we normalise by control)!\n",
    "- If `k_egwl` is set to `0.08`, we can nicely capture the initial conditions observed for ENSA.\n"
   ]
  },
  {
   "cell_type": "code",
   "execution_count": null,
   "metadata": {
    "collapsed": true
   },
   "outputs": [],
   "source": []
  }
 ],
 "metadata": {
  "kernelspec": {
   "display_name": "Julia 0.4.0",
   "language": "julia",
   "name": "julia-0.4"
  },
  "language_info": {
   "file_extension": ".jl",
   "mimetype": "application/julia",
   "name": "julia",
   "version": "0.4.0"
  }
 },
 "nbformat": 4,
 "nbformat_minor": 0
}
