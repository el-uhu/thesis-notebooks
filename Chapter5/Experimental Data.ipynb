{
 "cells": [
  {
   "cell_type": "code",
   "execution_count": 1,
   "metadata": {
    "collapsed": false
   },
   "outputs": [
    {
     "name": "stderr",
     "output_type": "stream",
     "text": [
      "INFO: Precompiling module ExcelReaders...\n",
      "INFO: Precompiling module WoodburyMatrices...\n",
      "WARNING: New definition \n",
      "    +(AbstractArray{T<:Any, 2}, WoodburyMatrices.SymWoodbury) at /home/nbuser/.julia/v0.4/WoodburyMatrices/src/SymWoodburyMatrices.jl:106\n",
      "is ambiguous with: \n",
      "    +(DataArrays.DataArray, AbstractArray) at /home/nbuser/.julia/v0.4/DataArrays/src/operators.jl:276.\n",
      "To fix, define \n",
      "    +(DataArrays.DataArray{T<:Any, 2}, WoodburyMatrices.SymWoodbury)\n",
      "before the new definition.\n",
      "WARNING: New definition \n",
      "    +(AbstractArray{T<:Any, 2}, WoodburyMatrices.SymWoodbury) at /home/nbuser/.julia/v0.4/WoodburyMatrices/src/SymWoodburyMatrices.jl:106\n",
      "is ambiguous with: \n",
      "    +(DataArrays.AbstractDataArray, AbstractArray) at /home/nbuser/.julia/v0.4/DataArrays/src/operators.jl:300.\n",
      "To fix, define \n",
      "    +(DataArrays.AbstractDataArray{T<:Any, 2}, WoodburyMatrices.SymWoodbury)\n",
      "before the new definition.\n",
      "INFO: Precompiling module AxisAlgorithms...\n"
     ]
    }
   ],
   "source": [
    "#Load dependencies and \n",
    "include(\"custom_code/utilities.jl\")\n",
    "include(\"custom_code/plot_data.jl\")\n",
    "include(\"custom_code/model_routines.jl\")\n",
    "close(\"all\")"
   ]
  },
  {
   "cell_type": "code",
   "execution_count": 2,
   "metadata": {
    "collapsed": false
   },
   "outputs": [
    {
     "data": {
      "text/plain": [
       "5-element Array{Any,1}:\n",
       " \"2919_D7S1 (3)\"\n",
       " \"2919_D7S1 (5)\"\n",
       " \"3331_F4S1 (2)\"\n",
       " \"3331_F4S3 (2)\"\n",
       " \"3331_F4S4 (2)\""
      ]
     },
     "execution_count": 2,
     "metadata": {},
     "output_type": "execute_result"
    }
   ],
   "source": [
    "#Load data\n",
    "S = Spec(\"specs.yml\")\n",
    "D = readtable(joinpath(S.path, \"map_curated.csv\"));\n",
    "H = D[D[:celltype] .== \"HeLa\", :]\n",
    "HR = H[H[:treatment] .== \"RO-3306\", :]\n",
    "HN = H[H[:treatment] .== \"noc_only\", :]\n",
    "HN = HN[HN[:ana] .!= 0.0, :]\n",
    "hctrl = [id for id in H[H[:treatment] .== \"untreated\", :cell_id]]\n",
    "\n",
    "R = D[D[:celltype] .== \"RPE1\", :]\n",
    "RR = R[R[:treatment] .== \"RO-3306\", :]\n",
    "RN = R[R[:treatment] .== \"noc_only\", :]\n",
    "RN = RN[RN[:ana] .!= 0.0, :]\n",
    "\n",
    "hro = Dict([d => [id for id in HR[HR[:dose_uM] .== d,:][:cell_id]] for d in unique(HR[:dose_uM])])\n",
    "rro = Dict([d => [id for id in RR[RR[:dose_uM] .== d,:][:cell_id]] for d in unique(RR[:dose_uM])])\n",
    "hro[0.0] = [id for id in HN[:cell_id]]\n",
    "rro[0.0] = [id for id in RN[:cell_id]]"
   ]
  },
  {
   "cell_type": "code",
   "execution_count": 3,
   "metadata": {
    "collapsed": false
   },
   "outputs": [
    {
     "data": {
      "text/plain": [
       "plot_inh (generic function with 1 method)"
      ]
     },
     "execution_count": 3,
     "metadata": {},
     "output_type": "execute_result"
    }
   ],
   "source": [
    "function plot_inh(hdose, rdose; xmax = 100, ymax = 1.2, w = 15, h = 6, orient = \"side\")\n",
    "\n",
    "  figure(figsize = [w,h])\n",
    "  if orient == \"side\"\n",
    "    sp = Dict(\n",
    "    \"HeLa\" => subplot(121),\n",
    "    \"RPE1\" => subplot(122)\n",
    "    )\n",
    "  elseif orient == \"top\"\n",
    "    sp = Dict(\n",
    "    \"HeLa\" => subplot(211),\n",
    "    \"RPE1\" => subplot(212)\n",
    "    )\n",
    "  end\n",
    "\n",
    "  for k in keys(sp)\n",
    "   sp[k][:set_xlim]([0,xmax])\n",
    "   sp[k][:set_ylim]([0,ymax])\n",
    "   sp[k][:set_xlabel](\"time after RO-3306 addition (min)\")\n",
    "   sp[k][:set_ylabel](ylabel[k])\n",
    "   sp[k][:set_title](k)\n",
    "  end\n",
    "\n",
    "\n",
    "  for d in sort([k for k in keys(hdose)])\n",
    "    for (n,i) in enumerate(hro[d])\n",
    "      plotcell(sp[\"HeLa\"], D, i; color = hdose[d],\n",
    "                label = n == 1 ? \"$d\\ uM\" : \"\", alpha = 0.5)\n",
    "    end\n",
    "  end\n",
    "  sp[\"HeLa\"][:legend]()\n",
    "\n",
    "  for d in sort([k for k in keys(rdose)])\n",
    "    for (n,i) in enumerate(rro[d])\n",
    "      plotcell(sp[\"RPE1\"], D, i; color = rdose[d],\n",
    "                label = n == 1 ? \"$d\\ uM\" : \"\", alpha = 0.5)\n",
    "    end\n",
    "  end\n",
    "  sp[\"RPE1\"][:legend]()\n",
    "end"
   ]
  },
  {
   "cell_type": "code",
   "execution_count": 4,
   "metadata": {
    "collapsed": false
   },
   "outputs": [
    {
     "name": "stderr",
     "output_type": "stream",
     "text": [
      "\n",
      "WARNING: deprecated syntax \"[a=>b, ...]\" at In[4]:3.\n",
      "Use \"Dict(a=>b, ...)\" instead.\n",
      "\n",
      "WARNING: deprecated syntax \"[a=>b, ...]\" at In[4]:9.\n",
      "Use \"Dict(a=>b, ...)\" instead.\n"
     ]
    },
    {
     "ename": "LoadError",
     "evalue": "LoadError: MethodError: `getindex` has no method matching getindex(::Function, ::ASCIIString)\nwhile loading In[4], in expression starting on line 1",
     "output_type": "error",
     "traceback": [
      "LoadError: MethodError: `getindex` has no method matching getindex(::Function, ::ASCIIString)\nwhile loading In[4], in expression starting on line 1",
      "",
      " in plot_inh at In[3]:20"
     ]
    }
   ],
   "source": [
    "plot_inh(\n",
    "  Dict(\n",
    "    0.0 => \"#c7c7c7\",\n",
    "    1.25 => \"#B56B91\",\n",
    "    # 1.7 => \"#075251\",\n",
    "    # 13.3 => \"#F4806D\"\n",
    "    ),\n",
    "  Dict(\n",
    "    0.0 => \"#c7c7c7\",\n",
    "    0.75 => \"#B56B91\",\n",
    "    # 1.5 => \"#075251\",\n",
    "    # 10.0 => \"#F4806D\",\n",
    "    );\n",
    "  xmax = 2500,\n",
    "  ymax = 1.6,\n",
    "  w = 15,\n",
    "  orient = \"top\",\n",
    "  h = 15\n",
    ")"
   ]
  },
  {
   "cell_type": "code",
   "execution_count": 8,
   "metadata": {
    "collapsed": false
   },
   "outputs": [
    {
     "data": {
      "image/png": "[encoded data removed]",
      "text/plain": [
       "PyPlot.Figure(PyObject <matplotlib.figure.Figure object at 0x7fcbc4b74d10>)"
      ]
     },
     "metadata": {},
     "output_type": "display_data"
    },
    {
     "name": "stderr",
     "output_type": "stream",
     "text": [
      "/usr/lib/python2.7/dist-packages/matplotlib/font_manager.py:1279: UserWarning: findfont: Font family [u'Raleway'] not found. Falling back to Bitstream Vera Sans\n",
      "  (prop.get_family(), self.defaultFamily[fontext]))\n",
      "/usr/lib/python2.7/dist-packages/matplotlib/font_manager.py:1289: UserWarning: findfont: Could not match :family=Bitstream Vera Sans:style=normal:variant=normal:weight=normal:stretch=normal:size=medium. Returning /usr/share/matplotlib/mpl-data/fonts/ttf/cmb10.ttf\n",
      "  UserWarning)\n"
     ]
    },
    {
     "data": {
      "text/plain": [
       "PyObject <matplotlib.axes._subplots.AxesSubplot object at 0x7fcbc4b91e10>"
      ]
     },
     "execution_count": 8,
     "metadata": {},
     "output_type": "execute_result"
    }
   ],
   "source": [
    "subplot(111)"
   ]
  },
  {
   "cell_type": "code",
   "execution_count": null,
   "metadata": {
    "collapsed": true
   },
   "outputs": [],
   "source": []
  }
 ],
 "metadata": {
  "kernelspec": {
   "display_name": "Julia 0.4.6",
   "language": "julia",
   "name": "julia-0.4"
  },
  "language_info": {
   "file_extension": ".jl",
   "mimetype": "application/julia",
   "name": "julia",
   "version": "0.4.6"
  }
 },
 "nbformat": 4,
 "nbformat_minor": 1
}
