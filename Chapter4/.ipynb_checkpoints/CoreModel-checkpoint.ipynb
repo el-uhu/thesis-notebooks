{
 "cells": [
  {
   "cell_type": "code",
   "execution_count": 5,
   "metadata": {
    "collapsed": false
   },
   "outputs": [],
   "source": [
    "using XPP\n",
    "using PyPlot\n",
    "include(\"custom_code/00a_models.jl\")\n",
    "include(\"custom_code/00b_styles.jl\")\n",
    "include(\"custom_code/00c_helperfunctions.jl\")\n",
    "global simname = \"Normal\";"
   ]
  },
  {
   "cell_type": "code",
   "execution_count": 6,
   "metadata": {
    "collapsed": false
   },
   "outputs": [
    {
     "data": {
      "text/plain": [
       "generateSimulations (generic function with 1 method)"
      ]
     },
     "execution_count": 6,
     "metadata": {},
     "output_type": "execute_result"
    }
   ],
   "source": [
    "function generateSimulations(modelname)\n",
    "    M = Dict(\n",
    "        \"Control\" => ctrl(modelname),\n",
    "        \"TEV\" => tev(modelname)\n",
    "    )\n",
    "\n",
    "    for k in keys(M)\n",
    "        runSimulation!(M[k], simname)\n",
    "    end\n",
    "    return(M)\n",
    "end"
   ]
  },
  {
   "cell_type": "code",
   "execution_count": 11,
   "metadata": {
    "collapsed": false
   },
   "outputs": [
    {
     "data": {
      "text/plain": [
       "makePanel (generic function with 1 method)"
      ]
     },
     "execution_count": 11,
     "metadata": {},
     "output_type": "execute_result"
    }
   ],
   "source": [
    "#Subfunctions for plotting\n",
    "plotvar(var, model, aest) = plot(model.sims[simname].D[\"tr\"], model.sims[simname].D[var], linewidth = 2, color = aest, label = var)\n",
    "plotAKT(var, model, aest) = plot(model.sims[simname].D[\"tr\"], get_aKT(model, simname, var), linewidth = 2, color = aest, label = \"aKT\")\n",
    "\n",
    "#Main function for generating a panel\n",
    "function makePanel(M)\n",
    "    figure(figsize = (20,9))\n",
    "    ax1 = subplot2grid([2,7], [1,0], 1, 1)\n",
    "    title(\"Control\", fonts[\"subplt_title\"])\n",
    "    xlim(0,t_ctrl)\n",
    "    xticks([0,10,20])\n",
    "    xlabel(\"time (min)\", fonts[\"subplt_axis\"])\n",
    "    ylim(0,cyc_max)\n",
    "    yticks([0,2500,5000,7500,10000])\n",
    "    ylabel(\"Number of Molecules\", fonts[\"subplt_axis\"])\n",
    "\n",
    "    for var in [\"CycB\", \"APC\"]\n",
    "        plotvar(var, M[\"Control\"], styles[var])\n",
    "    end\n",
    "\n",
    "    ax1_2 = ax1[:twinx]()\n",
    "    xlim(0,t_ctrl)\n",
    "    ylim(0, mcc_max)\n",
    "    yticks([0,500,1000,1500,2000], [\"\", \"\", \"\", \"\", \"\"])\n",
    "\n",
    "    plotvar(\"MCCfree\", M[\"Control\"], styles[\"MCCfree\"])\n",
    "\n",
    "\n",
    "\n",
    "    ax2 = subplot2grid([2,7], [1,1], 1, 2)\n",
    "    title(\"Loss of cohesin\", fonts[\"subplt_title\"])\n",
    "    xlim(0,t_tev)\n",
    "    xticks([0,10,20,30,40,50])\n",
    "    xlabel(\"time (min)\", fonts[\"subplt_axis\"])\n",
    "    ylim(0,cyc_max)\n",
    "    yticks([0,2500,5000,7500,10000], [\"\", \"\", \"\", \"\", \"\"])\n",
    "\n",
    "    for var in [\"CycB\", \"APC\"]\n",
    "        plotvar(var, M[\"TEV\"], styles[var])\n",
    "    end\n",
    "\n",
    "    ax2_2 = ax2[:twinx]()\n",
    "    xlim(0,t_tev)\n",
    "    ylim(0, mcc_max)\n",
    "    yticks([0,500,1000,1500,2000])\n",
    "    ylabel(\"Number of Molecules (MCC)\", fonts[\"subplt_axis\"])\n",
    "\n",
    "    plotvar(\"MCCfree\", M[\"TEV\"], styles[\"MCCfree\"])\n",
    "\n",
    "\n",
    "    ax3 = subplot2grid([2,7], [0,4], 1, 1)\n",
    "    title(\"Control\", fonts[\"subplt_title\"])\n",
    "    xlim(0,t_ctrl)\n",
    "    xticks([0,10,20])\n",
    "    xlabel(\"time (min)\", fonts[\"subplt_axis\"])\n",
    "    ylim(0,aurb_max)\n",
    "    ylabel(\"Number of Molecules\", fonts[\"subplt_axis\"])\n",
    "    yticks([0,20, 40, 60, 80])\n",
    "\n",
    "    for var in [\"AurBc\", \"AurBa\"]\n",
    "        plotvar(var, M[\"Control\"], styles[var])\n",
    "    end\n",
    "\n",
    "    ax3_2 = ax3[:twinx]()\n",
    "    xlim(0,t_ctrl)\n",
    "    ylim(0,akt_max)\n",
    "    yticks([0,25,50,75,100], [\"\", \"\", \"\", \"\", \"\"])\n",
    "\n",
    "    plotAKT(\"uKT\", M[\"Control\"], styles[\"uKT\"])\n",
    "\n",
    "\n",
    "    ax4 = subplot2grid([2,7], [0,5], 1, 2)\n",
    "    title(\"Loss of cohesin\", fonts[\"subplt_title\"])\n",
    "    xlim(0,t_tev)\n",
    "    xticks([0,10,20,30,40,50])\n",
    "    xlabel(\"time (min)\", fonts[\"subplt_axis\"])\n",
    "    ylim(0, aurb_max)\n",
    "    yticks([0,20, 40, 60, 80], [\"\", \"\", \"\", \"\", \"\"])\n",
    "\n",
    "    for var in [\"AurBc\", \"AurBa\"]\n",
    "        plotvar(var, M[\"TEV\"], styles[var])\n",
    "    end\n",
    "\n",
    "    ax4_2 = ax4[:twinx]()\n",
    "    xlim(0,t_tev)\n",
    "    ylim(0,akt_max)\n",
    "    yticks([0,25, 50, 75, 100])\n",
    "    ylabel(\"attachment (%)\", fonts[\"subplt_axis\"])\n",
    "\n",
    "    plotAKT(\"uKT\", M[\"TEV\"], styles[\"uKT\"])\n",
    "\n",
    "    ax5 = subplot2grid([2,7], [1,4], 2, 1)\n",
    "    xlim(0,t_ctrl)\n",
    "    xticks([0,10,20])\n",
    "    xlabel(\"time (min)\", fonts[\"subplt_axis\"])\n",
    "    ylim(0,aurbt_max)\n",
    "    ylabel(\"Number of Molecules\", fonts[\"subplt_axis\"])\n",
    "    yticks([0, 250, 500, 750, 1000])\n",
    "\n",
    "    for var in [\"AurBctot\", \"AurBatot\"]\n",
    "        plotvar(var, M[\"Control\"], styles[var])\n",
    "    end\n",
    "\n",
    "    ax5_2 = ax5[:twinx]()\n",
    "    xlim(0,t_ctrl)\n",
    "    ylim(0,akt_max)\n",
    "    yticks([0,25,50,75,100], [\"\", \"\", \"\", \"\", \"\"])\n",
    "\n",
    "    plotAKT(\"uKTtot\", M[\"Control\"], styles[\"uKT\"])\n",
    "\n",
    "\n",
    "    ax6 = subplot2grid([2,7], [1,5], 2, 2)\n",
    "    xlim(0,t_tev)\n",
    "    xticks([0,10,20,30,40,50])\n",
    "    xlabel(\"time (min)\", fonts[\"subplt_axis\"])\n",
    "    ylim(0,aurbt_max)\n",
    "    yticks([0, 250, 500, 750, 1000], [\"\", \"\", \"\", \"\", \"\"])\n",
    "\n",
    "    for var in [\"AurBctot\", \"AurBatot\"]\n",
    "        plotvar(var, M[\"TEV\"], styles[var])\n",
    "    end\n",
    "\n",
    "    ax6_2 = ax6[:twinx]()\n",
    "    xlim(0,t_tev)\n",
    "    ylim(0,akt_max)\n",
    "    yticks([0,25, 50, 75, 100])\n",
    "    ylabel(\"attachment (%)\", fonts[\"subplt_axis\"])\n",
    "\n",
    "    plotAKT(\"uKTtot\", M[\"TEV\"], styles[\"uKT\"])\n",
    "\n",
    "    subplots_adjust(left = 0.07, right = 0.93, hspace = 0.33, wspace = 0.10, top = 0.90, bottom = 0.10)\n",
    "end\n"
   ]
  },
  {
   "cell_type": "code",
   "execution_count": 12,
   "metadata": {
    "collapsed": false
   },
   "outputs": [
    {
     "ename": "LoadError",
     "evalue": "LoadError: KeyError: Vx not found\nwhile loading In[12], in expression starting on line 1",
     "output_type": "error",
     "traceback": [
      "LoadError: KeyError: Vx not found\nwhile loading In[12], in expression starting on line 1",
      "",
      " in getindex at ./dict.jl:738",
      " in get_aKT at /home/nbuser/thesis-notebooks/Chapter4/custom_code/00c_helperfunctions.jl:7",
      " in makePanel at In[11]:69"
     ]
    }
   ],
   "source": [
    "makePanel(generateSimulations(\"stochastic\"))\n"
   ]
  },
  {
   "cell_type": "code",
   "execution_count": null,
   "metadata": {
    "collapsed": true
   },
   "outputs": [],
   "source": []
  }
 ],
 "metadata": {
  "kernelspec": {
   "display_name": "Julia 0.4.6",
   "language": "julia",
   "name": "julia-0.4"
  },
  "language_info": {
   "file_extension": ".jl",
   "mimetype": "application/julia",
   "name": "julia",
   "version": "0.4.6"
  }
 },
 "nbformat": 4,
 "nbformat_minor": 1
}
